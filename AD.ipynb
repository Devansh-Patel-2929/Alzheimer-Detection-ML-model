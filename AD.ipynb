{
 "cells": [
  {
   "cell_type": "code",
   "execution_count": 29,
   "metadata": {},
   "outputs": [],
   "source": [
    "import numpy as np\n",
    "import pandas as pd\n",
    "from matplotlib import pyplot as pl"
   ]
  },
  {
   "cell_type": "code",
   "execution_count": 30,
   "metadata": {},
   "outputs": [
    {
     "name": "stdout",
     "output_type": "stream",
     "text": [
      "      PatientID  Age  Gender  Ethnicity  EducationLevel        BMI  Smoking  \\\n",
      "0          4751   73       0          0               2  22.927749        0   \n",
      "1          4752   89       0          0               0  26.827681        0   \n",
      "2          4753   73       0          3               1  17.795882        0   \n",
      "3          4754   74       1          0               1  33.800817        1   \n",
      "4          4755   89       0          0               0  20.716974        0   \n",
      "...         ...  ...     ...        ...             ...        ...      ...   \n",
      "2144       6895   61       0          0               1  39.121757        0   \n",
      "2145       6896   75       0          0               2  17.857903        0   \n",
      "2146       6897   77       0          0               1  15.476479        0   \n",
      "2147       6898   78       1          3               1  15.299911        0   \n",
      "2148       6899   72       0          0               2  33.289738        0   \n",
      "\n",
      "      AlcoholConsumption  PhysicalActivity  DietQuality  ...  \\\n",
      "0              13.297218          6.327112     1.347214  ...   \n",
      "1               4.542524          7.619885     0.518767  ...   \n",
      "2              19.555085          7.844988     1.826335  ...   \n",
      "3              12.209266          8.428001     7.435604  ...   \n",
      "4              18.454356          6.310461     0.795498  ...   \n",
      "...                  ...               ...          ...  ...   \n",
      "2144            1.561126          4.049964     6.555306  ...   \n",
      "2145           18.767261          1.360667     2.904662  ...   \n",
      "2146            4.594670          9.886002     8.120025  ...   \n",
      "2147            8.674505          6.354282     1.263427  ...   \n",
      "2148            7.890703          6.570993     7.941404  ...   \n",
      "\n",
      "      MemoryComplaints  BehavioralProblems       ADL  Confusion  \\\n",
      "0                    0                   0  1.725883          0   \n",
      "1                    0                   0  2.592424          0   \n",
      "2                    0                   0  7.119548          0   \n",
      "3                    0                   1  6.481226          0   \n",
      "4                    0                   0  0.014691          0   \n",
      "...                ...                 ...       ...        ...   \n",
      "2144                 0                   0  4.492838          1   \n",
      "2145                 0                   1  9.204952          0   \n",
      "2146                 0                   0  5.036334          0   \n",
      "2147                 0                   0  3.785399          0   \n",
      "2148                 0                   1  8.327563          0   \n",
      "\n",
      "      Disorientation  PersonalityChanges  DifficultyCompletingTasks  \\\n",
      "0                  0                   0                          1   \n",
      "1                  0                   0                          0   \n",
      "2                  1                   0                          1   \n",
      "3                  0                   0                          0   \n",
      "4                  0                   1                          1   \n",
      "...              ...                 ...                        ...   \n",
      "2144               0                   0                          0   \n",
      "2145               0                   0                          0   \n",
      "2146               0                   0                          0   \n",
      "2147               0                   0                          0   \n",
      "2148               1                   0                          0   \n",
      "\n",
      "      Forgetfulness  Diagnosis  DoctorInCharge  \n",
      "0                 0          0       XXXConfid  \n",
      "1                 1          0       XXXConfid  \n",
      "2                 0          0       XXXConfid  \n",
      "3                 0          0       XXXConfid  \n",
      "4                 0          0       XXXConfid  \n",
      "...             ...        ...             ...  \n",
      "2144              0          1       XXXConfid  \n",
      "2145              0          1       XXXConfid  \n",
      "2146              0          1       XXXConfid  \n",
      "2147              1          1       XXXConfid  \n",
      "2148              1          0       XXXConfid  \n",
      "\n",
      "[2149 rows x 35 columns]\n"
     ]
    }
   ],
   "source": [
    "df = pd.read_csv(\"data.csv\")\n",
    "print(df)"
   ]
  },
  {
   "cell_type": "code",
   "execution_count": 31,
   "metadata": {},
   "outputs": [
    {
     "data": {
      "text/plain": [
       "<Axes: xlabel='Age'>"
      ]
     },
     "execution_count": 31,
     "metadata": {},
     "output_type": "execute_result"
    },
    {
     "data": {
      "image/png": "[encoded data removed]",
      "text/plain": [
       "<Figure size 640x480 with 1 Axes>"
      ]
     },
     "metadata": {},
     "output_type": "display_data"
    }
   ],
   "source": [
    "df.plot(x=\"Age\", y=\"AlcoholConsumption\", kind=\"bar\") "
   ]
  },
  {
   "cell_type": "code",
   "execution_count": 39,
   "metadata": {},
   "outputs": [
    {
     "name": "stdout",
     "output_type": "stream",
     "text": [
      "Accuracy on test set: 0.80\n",
      "Classification Report:\n",
      "               precision    recall  f1-score   support\n",
      "\n",
      "           0       0.82      0.88      0.85       277\n",
      "           1       0.76      0.66      0.71       153\n",
      "\n",
      "    accuracy                           0.80       430\n",
      "   macro avg       0.79      0.77      0.78       430\n",
      "weighted avg       0.80      0.80      0.80       430\n",
      "\n"
     ]
    },
    {
     "name": "stderr",
     "output_type": "stream",
     "text": [
      "c:\\Users\\devan\\AppData\\Local\\Programs\\Python\\Python312\\Lib\\site-packages\\sklearn\\linear_model\\_sag.py:350: ConvergenceWarning: The max_iter was reached which means the coef_ did not converge\n",
      "  warnings.warn(\n"
     ]
    }
   ],
   "source": [
    "import pandas as pd\n",
    "from sklearn.linear_model import LogisticRegression\n",
    "from sklearn.metrics import accuracy_score, classification_report\n",
    "from sklearn.model_selection import train_test_split\n",
    "data = pd.read_csv('data.csv')\n",
    "\n",
    "\n",
    "X = data.drop(columns=['PatientID', 'Diagnosis', 'DoctorInCharge', 'Gender' ,'Ethnicity','EducationLevel'])  # Features (predictors)\n",
    "y = data['Diagnosis']  # Target variable\n",
    "\n",
    "X_train, X_test, y_train, y_test = train_test_split(X, y, test_size=0.2, random_state=42)\n",
    "\n",
    "# Create and train the logistic regression model\n",
    "model = LogisticRegression(max_iter=3000, solver='saga')\n",
    "model.fit(X_train, y_train)\n",
    "\n",
    "# Make predictions on the test set\n",
    "y_pred = model.predict(X_test)\n",
    "\n",
    "# Evaluate the model\n",
    "accuracy = accuracy_score(y_test, y_pred)\n",
    "report = classification_report(y_test, y_pred)\n",
    "\n",
    "print(f\"Accuracy on test set: {accuracy:.2f}\")\n",
    "print(\"Classification Report:\\n\", report)\n"
   ]
  },
  {
   "cell_type": "code",
   "execution_count": 40,
   "metadata": {},
   "outputs": [
    {
     "name": "stdout",
     "output_type": "stream",
     "text": [
      "Likelihood of Alzheimer's: Low\n",
      "Probability: 0.10\n"
     ]
    }
   ],
   "source": [
    "new_person = {\n",
    "    'Age': 75,\n",
    "    'BMI': 17.857902787323138,\n",
    "    'Smoking': 0,\n",
    "    'AlcoholConsumption': 18.767260655227215,\n",
    "    'PhysicalActivity': 1.3606670291415413,\n",
    "    'DietQuality': 2.904661636047192,\n",
    "    'SleepQuality': 8.555256019650281,\n",
    "    'FamilyHistoryAlzheimers': 0,\n",
    "    'CardiovascularDisease': 0,\n",
    "    'Diabetes': 0,\n",
    "    'Depression': 0,\n",
    "    'HeadInjury': 0,\n",
    "    'Hypertension': 0,\n",
    "    'SystolicBP': 152,\n",
    "    'DiastolicBP': 106,\n",
    "    'CholesterolTotal': 186.384436151611,\n",
    "    'CholesterolLDL': 95.41070035813202,\n",
    "    'CholesterolHDL': 93.6497354072566,\n",
    "    'CholesterolTriglycerides': 367.9868766873898,\n",
    "    'MMSE': 6.458060312181194,\n",
    "    'FunctionalAssessment': 8.687479533704925,\n",
    "    'MemoryComplaints': 0,\n",
    "    'BehavioralProblems': 1,\n",
    "    'ADL': 9.20495234789384,\n",
    "    'Confusion': 0,\n",
    "    'Disorientation': 0,\n",
    "    'PersonalityChanges': 0,\n",
    "    'DifficultyCompletingTasks': 0,\n",
    "    'Forgetfulness': 0,\n",
    "}\n",
    "\n",
    "# Convert input features to a DataFrame\n",
    "new_data = pd.DataFrame([new_person])\n",
    "\n",
    "# Make predictions for the new person\n",
    "prediction = model.predict(new_data)\n",
    "probability = model.predict_proba(new_data)[:, 1]  # Probability of having Alzheimer's\n",
    "\n",
    "if prediction[0] == 1:\n",
    "    print(\"Likelihood of Alzheimer's: High\")\n",
    "else:\n",
    "    print(\"Likelihood of Alzheimer's: Low\")\n",
    "\n",
    "print(f\"Probability: {probability[0]:.2f}\")"
   ]
  },
  {
   "cell_type": "code",
   "execution_count": 41,
   "metadata": {},
   "outputs": [
    {
     "name": "stdout",
     "output_type": "stream",
     "text": [
      "Likelihood of Alzheimer's: High\n",
      "Probability: 0.60\n"
     ]
    }
   ],
   "source": [
    "new_person= {\n",
    "    'Age': 81,\n",
    "    'BMI': 22.630944676651062,\n",
    "    'Smoking': 1,\n",
    "    'AlcoholConsumption': 2.328341104617011,\n",
    "    'PhysicalActivity': 0.33460526089975406,\n",
    "    'DietQuality': 4.103678479250944,\n",
    "    'SleepQuality': 7.85822733016993,\n",
    "    'FamilyHistoryAlzheimers': 1,\n",
    "    'CardiovascularDisease': 1,\n",
    "    'Diabetes': 0,\n",
    "    'Depression': 0,\n",
    "    'HeadInjury': 0,\n",
    "    'Hypertension': 0,\n",
    "    'SystolicBP': 140,\n",
    "    'DiastolicBP': 85,\n",
    "    'CholesterolTotal': 186.44868713392043,\n",
    "    'CholesterolLDL': 63.322617429162094,\n",
    "    'CholesterolHDL': 29.61277476986841,\n",
    "    'CholesterolTriglycerides': 310.5935918588748,\n",
    "    'MMSE': 10.535127455429516,\n",
    "    'FunctionalAssessment': 4.877707159773347,\n",
    "    'MemoryComplaints': 0,\n",
    "    'BehavioralProblems': 0,\n",
    "    'ADL': 0.05537868829632919,\n",
    "    'Confusion': 1,\n",
    "    'Disorientation': 0,\n",
    "    'PersonalityChanges': 0,\n",
    "    'DifficultyCompletingTasks': 1,\n",
    "    'Forgetfulness': 1,\n",
    "}\n",
    "\n",
    "# Convert input features to a DataFrame\n",
    "new_data = pd.DataFrame([new_person])\n",
    "\n",
    "# Make predictions for the new person\n",
    "prediction = model.predict(new_data)\n",
    "probability = model.predict_proba(new_data)[:, 1]  # Probability of having Alzheimer's\n",
    "\n",
    "if prediction[0] == 1:\n",
    "    print(\"Likelihood of Alzheimer's: High\")\n",
    "else:\n",
    "    print(\"Likelihood of Alzheimer's: Low\")\n",
    "\n",
    "print(f\"Probability: {probability[0]:.2f}\")"
   ]
  }
 ],
 "metadata": {
  "kernelspec": {
   "display_name": "Python 3",
   "language": "python",
   "name": "python3"
  },
  "language_info": {
   "codemirror_mode": {
    "name": "ipython",
    "version": 3
   },
   "file_extension": ".py",
   "mimetype": "text/x-python",
   "name": "python",
   "nbconvert_exporter": "python",
   "pygments_lexer": "ipython3",
   "version": "3.12.2"
  }
 },
 "nbformat": 4,
 "nbformat_minor": 2
}
